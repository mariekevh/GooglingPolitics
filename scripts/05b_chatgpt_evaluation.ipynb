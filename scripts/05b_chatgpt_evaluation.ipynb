{
 "cells": [
  {
   "cell_type": "markdown",
   "id": "54d24e96-e938-4bf8-a376-23c187123aa5",
   "metadata": {},
   "source": [
    "## ChatGPT: Clean up and evaluate on test set"
   ]
  },
  {
   "cell_type": "code",
   "execution_count": null,
   "id": "c2db4791-57bb-4192-8b2e-d271858189b0",
   "metadata": {},
   "outputs": [],
   "source": [
    "import pandas as pd\n",
    "import re\n",
    "import json\n",
    "import pandas as pd\n",
    "import numpy as np\n",
    "import re\n",
    "import pickle\n",
    "import os\n",
    "from datetime import datetime\n",
    "from tqdm import tqdm"
   ]
  },
  {
   "cell_type": "markdown",
   "id": "a611f66d-dd7c-425c-a5cf-866b32882222",
   "metadata": {},
   "source": [
    "## Load test set "
   ]
  },
  {
   "cell_type": "code",
   "execution_count": null,
   "id": "02fa7560-ac9d-436f-bcfb-823e8c59b8fa",
   "metadata": {},
   "outputs": [],
   "source": [
    "# test-train split\n",
    "X_test = np.load(\"data/train_test/X_test.npy\", allow_pickle=True).tolist()\n",
    "y_test = np.load(\"data/train_test/y_test.npy\", allow_pickle=True).tolist()\n",
    "X_test_c = [x.lower() for x in X_test]\n",
    "test_df = pd.DataFrame({\"X_test\":X_test, \"y_test\":y_test, \"q_match\":X_test_c})\n",
    "test_df.shape\n",
    "labels = pd.read_csv(\"data/annotations.csv\")\n",
    "merged = pd.merge(test_df, labels[['q_match', 'short_date']], how='left')\n",
    "merged.shape"
   ]
  },
  {
   "cell_type": "markdown",
   "id": "66e4fb3a-f066-4890-a3ae-d25006632cff",
   "metadata": {},
   "source": [
    "## Load GPT labels"
   ]
  },
  {
   "cell_type": "code",
   "execution_count": null,
   "id": "bb7b677d-7101-4e56-8033-cfe5fe7c425e",
   "metadata": {},
   "outputs": [],
   "source": [
    "## long definition, no date\n",
    "l = pd.read_csv(\"data/chatgpt_labels/long_nodate.csv\")\n",
    "print(l.shape)\n",
    "l.head()"
   ]
  },
  {
   "cell_type": "code",
   "execution_count": null,
   "id": "75a9ab5e-8dc3-4655-a4d2-6cc0a9d9822d",
   "metadata": {},
   "outputs": [],
   "source": [
    "## Short definition, no date\n",
    "s = pd.read_csv(\"data/chatgpt_labels/short_nodate.csv\")\n",
    "print(s.shape)\n",
    "s.head()"
   ]
  },
  {
   "cell_type": "code",
   "execution_count": null,
   "id": "6212d92e-a31a-492a-974d-cb76d2a02083",
   "metadata": {},
   "outputs": [],
   "source": [
    "## Short definition, date\n",
    "sd = pd.read_csv(\"data/chatgpt_labels/short_date.csv\")\n",
    "print(sd.shape)\n",
    "sd.head()"
   ]
  },
  {
   "cell_type": "code",
   "execution_count": null,
   "id": "3b36b0e9-29c2-4d5a-8c50-08db6e586f27",
   "metadata": {},
   "outputs": [],
   "source": [
    "## long definition, date\n",
    "ld = pd.read_csv(\"data/chatgpt_labels/long_date.csv\")\n",
    "print(ld.shape)\n",
    "ld.head()"
   ]
  },
  {
   "cell_type": "code",
   "execution_count": null,
   "id": "13005dcb-be98-464c-874c-6015acb4fded",
   "metadata": {},
   "outputs": [],
   "source": [
    "#l[['finish_reason', 'finish_reason2']].value_counts(dropna=False)\n",
    "#s[['finish_reason', 'finish_reason2']].value_counts(dropna=False)\n",
    "#ld[['finish_reason', 'finish_reason2']].value_counts(dropna=False)\n",
    "#sd[['finish_reason', 'finish_reason2']].value_counts(dropna=False)"
   ]
  },
  {
   "cell_type": "markdown",
   "id": "8da1c9c3-e95c-4e18-90a9-6dfc87c6c960",
   "metadata": {},
   "source": [
    "### Extract binary labels"
   ]
  },
  {
   "cell_type": "code",
   "execution_count": null,
   "id": "5a11c654-7c0f-43ee-8d54-48612911a8dc",
   "metadata": {},
   "outputs": [],
   "source": [
    "def answer_cleaning(x):\n",
    "    x = x.lower().strip()\n",
    "    x = re.sub(r'[^\\w\\s]|_', '', x)\n",
    "    return x\n",
    "\n",
    "def get_labels_3cat(x):\n",
    "    if x.startswith('no'):\n",
    "        return 'no'\n",
    "    elif x.startswith('yes'):\n",
    "        return 'yes'\n",
    "    elif x.startswith('the answer is not'):\n",
    "        return 'uncertain'\n",
    "    elif x.startswith('the answer is no'):\n",
    "        return 'no'\n",
    "    elif x.startswith('the answer is yes'):\n",
    "        return 'yes'\n",
    "    else:\n",
    "        return 'uncertain'\n",
    "\n",
    "def get_labels(x):\n",
    "    if x == 'yes':\n",
    "        return 1\n",
    "    else:\n",
    "        return 0"
   ]
  },
  {
   "cell_type": "code",
   "execution_count": null,
   "id": "48d02743-e91a-4b6d-9793-65097c7f54eb",
   "metadata": {},
   "outputs": [],
   "source": [
    "# short, no date\n",
    "s['gpt_label_3cat'] = s['message2'].apply(answer_cleaning).apply(get_labels_3cat)\n",
    "s['gpt_label_3cat'].value_counts(dropna=False)\n",
    "s['gpt_label_3cat'].value_counts(dropna=False,normalize=True)*100"
   ]
  },
  {
   "cell_type": "code",
   "execution_count": null,
   "id": "7dd34262-de11-45ea-8c64-e020580c8f73",
   "metadata": {},
   "outputs": [],
   "source": [
    "s['gpt_label'] = s['gpt_label_3cat'].apply(get_labels)\n",
    "s['gpt_label'].value_counts(dropna=False)"
   ]
  },
  {
   "cell_type": "code",
   "execution_count": null,
   "id": "58e9fe6a-bb8a-40bb-8e41-1a00560d188b",
   "metadata": {},
   "outputs": [],
   "source": [
    "# long, no date\n",
    "l['gpt_label_3cat'] = l['message2'].apply(answer_cleaning).apply(get_labels_3cat)\n",
    "#l['gpt_label_3cat'].value_counts(dropna=False)\n",
    "l['gpt_label_3cat'].value_counts(dropna=False,normalize=True)*100"
   ]
  },
  {
   "cell_type": "code",
   "execution_count": null,
   "id": "8af07774-811b-46f6-82c7-6a8cf8ccf1d4",
   "metadata": {},
   "outputs": [],
   "source": [
    "l['gpt_label'] = l['gpt_label_3cat'].apply(get_labels)\n",
    "l['gpt_label'].value_counts(dropna=False)"
   ]
  },
  {
   "cell_type": "code",
   "execution_count": null,
   "id": "6bbdccc7-bf7b-46ff-bbc6-c03c12c73826",
   "metadata": {
    "tags": []
   },
   "outputs": [],
   "source": [
    "#l[l['gpt_label_3cat']=='uncertain'].message.tolist()\n",
    "#l[l['gpt_label_3cat']=='yes'].message.tolist()"
   ]
  },
  {
   "cell_type": "code",
   "execution_count": null,
   "id": "e2acb2dc-df22-4cb2-8361-2f59d161a72b",
   "metadata": {},
   "outputs": [],
   "source": [
    "# long, date\n",
    "ld['gpt_label_3cat'] = ld['message2'].apply(answer_cleaning).apply(get_labels_3cat)\n",
    "#ld['gpt_label_3cat'].value_counts(dropna=False)\n",
    "ld['gpt_label_3cat'].value_counts(dropna=False, normalize=True)*100"
   ]
  },
  {
   "cell_type": "code",
   "execution_count": null,
   "id": "a1b7dde8-178e-4134-bf63-f09a49ba3fbe",
   "metadata": {},
   "outputs": [],
   "source": [
    "ld['gpt_label'] = ld['gpt_label_3cat'].apply(get_labels)\n",
    "ld['gpt_label'].value_counts(dropna=False)"
   ]
  },
  {
   "cell_type": "code",
   "execution_count": null,
   "id": "80ebb6ae-18a6-48b9-8257-58edab920672",
   "metadata": {
    "tags": []
   },
   "outputs": [],
   "source": [
    "#ld[ld['gpt_label_3cat']=='uncertain'].message.tolist()\n",
    "#ld[ld['gpt_label_3cat']=='yes'].message.tolist()"
   ]
  },
  {
   "cell_type": "code",
   "execution_count": null,
   "id": "a1f1f4de-8db0-4aec-91db-e7401b0bd9f6",
   "metadata": {},
   "outputs": [],
   "source": [
    "# short, date\n",
    "sd['gpt_label_3cat'] = sd['message2'].apply(answer_cleaning).apply(get_labels_3cat)\n",
    "#sd['gpt_label_3cat'].value_counts(dropna=False)\n",
    "sd['gpt_label_3cat'].value_counts(dropna=False, normalize=True)*100"
   ]
  },
  {
   "cell_type": "code",
   "execution_count": null,
   "id": "59b1d3e4-842a-488a-8001-ea56b704f1d3",
   "metadata": {},
   "outputs": [],
   "source": [
    "sd['gpt_label'] = sd['gpt_label_3cat'].apply(get_labels)\n",
    "sd['gpt_label'].value_counts(dropna=False)"
   ]
  },
  {
   "cell_type": "markdown",
   "id": "fb8647b5-05d4-4bc9-9685-21e4cf46fbcd",
   "metadata": {},
   "source": [
    "## combine dataframes"
   ]
  },
  {
   "cell_type": "code",
   "execution_count": null,
   "id": "ea07fc16-c576-4706-9273-4588317859c4",
   "metadata": {},
   "outputs": [],
   "source": [
    "dfs = [l, s, ld, sd]\n",
    "cols = [\"gpt_long\", \"gpt_short\", \"gpt_long_date\", \"gpt_short_date\"]"
   ]
  },
  {
   "cell_type": "code",
   "execution_count": null,
   "id": "e5ff6509-4496-406b-b653-5f6960a673af",
   "metadata": {},
   "outputs": [],
   "source": [
    "# merge with y_test\n",
    "for df, name in zip(dfs, cols):\n",
    "    name_3cat = f\"{name}_3cat\"\n",
    "    message = f\"{name}_message\"\n",
    "    message2 = f\"{name}_message2\"\n",
    "    df = df.rename(columns={\"gpt_label_3cat\":name_3cat, \"gpt_label\":name, \"message\":message, \"message2\":message2})\n",
    "    #print(df.columns)\n",
    "    merged = pd.merge(merged, df[['sq', name, name_3cat, message, message2]], how='left', left_on='X_test', right_on='sq')\n"
   ]
  },
  {
   "cell_type": "code",
   "execution_count": null,
   "id": "708014b2-5f03-41d0-9cf5-33508093bcf2",
   "metadata": {},
   "outputs": [],
   "source": [
    "## knowledge cut off chat gpt = Sep 2021\n",
    "cutoff_date = pd.to_datetime('2021-09-30')"
   ]
  },
  {
   "cell_type": "code",
   "execution_count": null,
   "id": "7ce72781-24a4-4f7e-90e4-b004530c4949",
   "metadata": {},
   "outputs": [],
   "source": [
    "merged['short_date'] = pd.to_datetime(merged['short_date'])\n",
    "merged['cutoff'] = np.where(merged['short_date']<= cutoff_date, 'before', 'after')\n",
    "merged.cutoff.value_counts(dropna=False)"
   ]
  },
  {
   "cell_type": "code",
   "execution_count": null,
   "id": "993a3b75-4e2a-4f68-a517-96d5b5c37065",
   "metadata": {},
   "outputs": [],
   "source": [
    "merged.groupby('cutoff')['gpt_long_3cat'].value_counts(dropna=False, normalize=True)*100"
   ]
  },
  {
   "cell_type": "code",
   "execution_count": null,
   "id": "364bbbbf-ca9e-4ff1-8d48-c2db88b61dc0",
   "metadata": {},
   "outputs": [],
   "source": [
    "merged.groupby('cutoff')['gpt_short_3cat'].value_counts(dropna=False, normalize=True)*100"
   ]
  },
  {
   "cell_type": "code",
   "execution_count": null,
   "id": "d705f3bb-7333-4836-9314-0d4d050ff392",
   "metadata": {},
   "outputs": [],
   "source": [
    "condition = merged['cutoff']=='after'"
   ]
  },
  {
   "cell_type": "code",
   "execution_count": null,
   "id": "68bdba0c-d5e2-4bc9-9c4d-0368001b9c19",
   "metadata": {},
   "outputs": [],
   "source": [
    "ld_cols = ['gpt_long_date', 'gpt_long_date_3cat','gpt_long_date_message', 'gpt_long_date_message2']\n",
    "l_cols = ['gpt_long', 'gpt_long_3cat', 'gpt_long_message', 'gpt_long_message2']\n",
    "merged.loc[condition, ld_cols] = merged.loc[condition, l_cols].values"
   ]
  },
  {
   "cell_type": "code",
   "execution_count": null,
   "id": "657ea469-cd0a-4ebf-b3dc-bdfc63543f67",
   "metadata": {},
   "outputs": [],
   "source": [
    "sd_cols = ['gpt_short_date', 'gpt_short_date_3cat', 'gpt_short_date_message', 'gpt_short_date_message2']\n",
    "s_cols = ['gpt_short', 'gpt_short_3cat', 'gpt_short_message','gpt_short_message2']\n",
    "merged.loc[condition, sd_cols] = merged.loc[condition, s_cols].values"
   ]
  },
  {
   "cell_type": "markdown",
   "id": "e9e65c64-686a-4a7a-8e91-1216e481e93a",
   "metadata": {
    "tags": []
   },
   "source": [
    "### Evaluation of performance"
   ]
  },
  {
   "cell_type": "code",
   "execution_count": null,
   "id": "904c8bd4-dbbf-4c4b-accb-119ac78a4618",
   "metadata": {},
   "outputs": [],
   "source": [
    "from sklearn.metrics import classification_report"
   ]
  },
  {
   "cell_type": "code",
   "execution_count": null,
   "id": "3b829e37-6356-46fa-97ce-bc42045b5b6b",
   "metadata": {
    "tags": []
   },
   "outputs": [],
   "source": [
    "## full report\n",
    "for e in cols:\n",
    "    print(e)\n",
    "    print(classification_report(merged['y_test'], merged[e]))"
   ]
  }
 ],
 "metadata": {
  "kernelspec": {
   "display_name": "Python 3",
   "language": "python",
   "name": "python3"
  },
  "language_info": {
   "codemirror_mode": {
    "name": "ipython",
    "version": 3
   },
   "file_extension": ".py",
   "mimetype": "text/x-python",
   "name": "python",
   "nbconvert_exporter": "python",
   "pygments_lexer": "ipython3",
   "version": "3.8.2"
  }
 },
 "nbformat": 4,
 "nbformat_minor": 5
}
