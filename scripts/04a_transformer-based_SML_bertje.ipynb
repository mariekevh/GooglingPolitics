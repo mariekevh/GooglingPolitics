{
 "cells": [
  {
   "cell_type": "markdown",
   "id": "144e28d3-af3b-4f28-acbb-16149c2c18ce",
   "metadata": {},
   "source": [
    "# Transformer-based SML: BERTje (hyper)parameter search and evaluation of best model"
   ]
  },
  {
   "cell_type": "code",
   "execution_count": null,
   "id": "72467eda-4574-4eeb-be78-2ea56d9ba7be",
   "metadata": {},
   "outputs": [],
   "source": [
    "import pandas as pd\n",
    "import numpy as np\n",
    "import re\n",
    "import pickle\n",
    "import os"
   ]
  },
  {
   "cell_type": "code",
   "execution_count": null,
   "id": "d7bafd6c-7cca-4964-9c60-346a029cc7d7",
   "metadata": {},
   "outputs": [],
   "source": [
    "from sklearn.metrics import classification_report, accuracy_score, f1_score, precision_score, recall_score, precision_recall_fscore_support\n",
    "from sklearn.model_selection import train_test_split, ParameterGrid\n",
    "from sklearn.utils.class_weight import compute_class_weight"
   ]
  },
  {
   "cell_type": "code",
   "execution_count": null,
   "id": "0970c7c6-096c-4602-8448-8f4f91dbfb63",
   "metadata": {},
   "outputs": [],
   "source": [
    "import torch\n",
    "from torch import nn\n",
    "from transformers import BertTokenizer, BertForSequenceClassification\n",
    "from transformers import Trainer, TrainingArguments"
   ]
  },
  {
   "cell_type": "code",
   "execution_count": null,
   "id": "526c388a-4295-4845-90bf-4caa3bfa8fd2",
   "metadata": {},
   "outputs": [],
   "source": [
    "import nltk\n",
    "nltk.download('stopwords')\n",
    "nltk.download('punkt')\n",
    "from nltk.corpus import stopwords\n",
    "stopwords = stopwords.words('dutch') \n",
    "from nltk.stem.snowball import SnowballStemmer\n",
    "from nltk.tokenize import word_tokenize\n",
    "stemmer = SnowballStemmer('dutch')"
   ]
  },
  {
   "cell_type": "code",
   "execution_count": null,
   "id": "31019682-a557-4016-b70b-2b826a4aee79",
   "metadata": {},
   "outputs": [],
   "source": [
    "def remove_numbers(x):\n",
    "    return re.sub(r'\\d+', '', x)\n",
    "\n",
    "def transform_lowercase(x):\n",
    "    return x.lower()\n",
    "\n",
    "def remove_punctuation(x):\n",
    "    return re.sub(r'[^\\w\\s]|_', '', x)\n",
    "\n",
    "def remove_stopwords(x):\n",
    "    x = x.split(\" \")\n",
    "    x = \" \".join([w for w in x if (w not in stopwords)])\n",
    "    return x\n",
    "\n",
    "def preprocess(x):\n",
    "    x = remove_punctuation(x)\n",
    "    x = remove_numbers(x)\n",
    "    x = transform_lowercase(x)\n",
    "    return x"
   ]
  },
  {
   "cell_type": "code",
   "execution_count": null,
   "id": "b5f0c2fb-d300-4775-8d1e-7cb0085d92ac",
   "metadata": {},
   "outputs": [],
   "source": [
    "# test-train split\n",
    "X_train = np.load(\"data/train_test/X_train.npy\", allow_pickle=True).tolist()\n",
    "X_test = np.load(\"data/train_test/X_test.npy\", allow_pickle=True).tolist()\n",
    "y_train = np.load(\"data/train_test/y_train.npy\", allow_pickle=True).tolist()\n",
    "y_test = np.load(\"data/train_test/y_test.npy\", allow_pickle=True).tolist()"
   ]
  },
  {
   "cell_type": "code",
   "execution_count": null,
   "id": "7122f82c-9391-4add-96aa-4511ffcb2321",
   "metadata": {},
   "outputs": [],
   "source": [
    "# class balance in test and train data\n",
    "print('test data:', np.bincount(y_test))\n",
    "print('train data:', np.bincount(y_train))"
   ]
  },
  {
   "cell_type": "code",
   "execution_count": null,
   "id": "a282a157-e464-4899-bf54-aecbcc6a7509",
   "metadata": {},
   "outputs": [],
   "source": [
    "# lowercase, punctuation and numbers removed\n",
    "X_train = [preprocess(w) for w in X_train]\n",
    "X_test = [preprocess(w) for w in X_test]"
   ]
  },
  {
   "cell_type": "code",
   "execution_count": null,
   "id": "a147250c-11ec-4f90-9ffe-dfb87002f160",
   "metadata": {},
   "outputs": [],
   "source": [
    "# If there's a GPU available...\n",
    "if torch.cuda.is_available():    \n",
    "\n",
    "    # Tell PyTorch to use the GPU.    \n",
    "    device = torch.device(\"cuda\")\n",
    "\n",
    "    print('There are %d GPU(s) available.' % torch.cuda.device_count())\n",
    "\n",
    "    print('We will use the GPU:', torch.cuda.get_device_name(0))\n",
    "\n",
    "# If not...\n",
    "else:\n",
    "    print('No GPU available, using the CPU instead.')\n",
    "    device = torch.device(\"cpu\")"
   ]
  },
  {
   "cell_type": "code",
   "execution_count": null,
   "id": "5389111f-600f-4d1b-afc9-3843a3bd0763",
   "metadata": {},
   "outputs": [],
   "source": [
    "# Random seeds\n",
    "seed_val = 42\n",
    "np.random.seed(seed_val)\n",
    "torch.manual_seed(seed_val)\n",
    "torch.cuda.manual_seed_all(seed_val)"
   ]
  },
  {
   "cell_type": "code",
   "execution_count": null,
   "id": "5520fa7a-3b57-4166-a101-0066be158f4d",
   "metadata": {},
   "outputs": [],
   "source": [
    "# MODEL OF CHOICE\n",
    "modelpath = 'GroNLP/bert-base-dutch-cased'"
   ]
  },
  {
   "cell_type": "code",
   "execution_count": null,
   "id": "ad7b973d-8cfd-48c1-97e8-838f2ddadc1d",
   "metadata": {},
   "outputs": [],
   "source": [
    "device_name = 'cuda' # = torch.device('cuda')\n",
    "max_length = 512 # This is the maximum number of tokens in any document sent to BERT.\n"
   ]
  },
  {
   "cell_type": "code",
   "execution_count": null,
   "id": "c9eac67c-7456-44ce-87f6-a2737a4c0270",
   "metadata": {},
   "outputs": [],
   "source": [
    "#### PREPARE DATA #### "
   ]
  },
  {
   "cell_type": "code",
   "execution_count": null,
   "id": "67a901e5-c049-4f03-952b-ae53689ba8eb",
   "metadata": {},
   "outputs": [],
   "source": [
    "# Make a custom torch mydataset class to make a train_dataset object from the text and labels \n",
    "class MyDataset(torch.utils.data.Dataset):\n",
    "    def __init__(self, encodings, labels):\n",
    "        self.encodings = encodings\n",
    "        self.labels = labels\n",
    "\n",
    "    def __getitem__(self, idx):\n",
    "        item = {key: torch.tensor(val[idx]) for key, val in self.encodings.items()}\n",
    "        item['labels'] = torch.tensor(self.labels[idx])\n",
    "        return item\n",
    "\n",
    "    def __len__(self):\n",
    "        return len(self.labels)"
   ]
  },
  {
   "cell_type": "code",
   "execution_count": null,
   "id": "c0fc7ea6-afa1-41c8-9611-82ffa7c5fb3b",
   "metadata": {},
   "outputs": [],
   "source": [
    "# train and val data set\n",
    "X_trains, X_val, y_trains, y_val = train_test_split(X_train, y_train, test_size=0.2, random_state=seed_val)"
   ]
  },
  {
   "cell_type": "code",
   "execution_count": null,
   "id": "5d18dae5-4b3f-427d-814d-036bad35ef80",
   "metadata": {},
   "outputs": [],
   "source": [
    "print('Train set:', len(X_trains), np.bincount(y_trains))\n",
    "print('Validation set:', len(X_val), np.bincount(y_val))\n",
    "print('Test set:', len(X_test), np.bincount(y_test))"
   ]
  },
  {
   "cell_type": "code",
   "execution_count": null,
   "id": "799c7573-5fe6-4efa-8fd1-87c1d7a57870",
   "metadata": {},
   "outputs": [],
   "source": [
    "# encoding\n",
    "tokenizer = BertTokenizer.from_pretrained(modelpath)"
   ]
  },
  {
   "cell_type": "code",
   "execution_count": null,
   "id": "c7135da5-47ba-48b0-a988-6bb1014335ba",
   "metadata": {},
   "outputs": [],
   "source": [
    "train_encodings = tokenizer(X_trains, truncation=True, padding=True, max_length = max_length) \n",
    "val_encodings = tokenizer(X_val, truncation=True, padding=True, max_length = max_length) \n",
    "test_encodings = tokenizer(X_test, truncation=True, padding=True, max_length = max_length)"
   ]
  },
  {
   "cell_type": "code",
   "execution_count": null,
   "id": "a05af54b-4961-4e6f-8c8d-eb202b162ea7",
   "metadata": {},
   "outputs": [],
   "source": [
    "train_dataset = MyDataset(train_encodings, y_trains)\n",
    "val_dataset = MyDataset(val_encodings, y_val)\n",
    "test_dataset = MyDataset(test_encodings, y_test)"
   ]
  },
  {
   "cell_type": "code",
   "execution_count": null,
   "id": "f8f786f6-c876-4f33-b401-7152db35dc3f",
   "metadata": {},
   "outputs": [],
   "source": [
    "# based on relative importance of each class in the dataset (inverse frequency)\n",
    "class_weights1 = (1 - np.bincount(y_trains)/len(y_trains))\n",
    "class_weights1 = torch.from_numpy(class_weights1).float().to(\"cuda\")\n",
    "class_weights1"
   ]
  },
  {
   "cell_type": "code",
   "execution_count": null,
   "id": "d1dd6258-2198-4835-850c-8f4be159339f",
   "metadata": {},
   "outputs": [],
   "source": [
    "# balance the weight. (different approach)\n",
    "class_weights2 = compute_class_weight(class_weight='balanced', classes=np.unique(y_trains), y=y_trains)\n",
    "class_weights2 = torch.from_numpy(class_weights2).float().to(\"cuda\")\n",
    "class_weights2"
   ]
  },
  {
   "cell_type": "code",
   "execution_count": null,
   "id": "3aac46eb-f49e-4b99-ad50-b8adb1863161",
   "metadata": {},
   "outputs": [],
   "source": [
    "## TRAINING"
   ]
  },
  {
   "cell_type": "code",
   "execution_count": null,
   "id": "43492255-39bb-45a4-921c-9ef367326293",
   "metadata": {},
   "outputs": [],
   "source": [
    "# Create a custom trainer based on class weights 1\n",
    "class WeightedLossTrainer1(Trainer):\n",
    "    def compute_loss(self, model, inputs, return_outputs=False):\n",
    "        outputs = model(**inputs)\n",
    "        logits = outputs.get(\"logits\")\n",
    "        labels = inputs.get(\"labels\")\n",
    "        loss_func = nn.CrossEntropyLoss(weight=class_weights1)\n",
    "        loss = loss_func(logits, labels)\n",
    "        return (loss, outputs) if return_outputs else loss"
   ]
  },
  {
   "cell_type": "code",
   "execution_count": null,
   "id": "7b9fcf1c-6d8e-4e6b-9501-cbf393168787",
   "metadata": {},
   "outputs": [],
   "source": [
    "class WeightedLossTrainer2(Trainer):\n",
    "    def compute_loss(self, model, inputs, return_outputs=False):\n",
    "        outputs = model(**inputs)\n",
    "        logits = outputs.get(\"logits\")\n",
    "        labels = inputs.get(\"labels\")\n",
    "        loss_func = nn.CrossEntropyLoss(weight=class_weights2)\n",
    "        loss = loss_func(logits, labels)\n",
    "        return (loss, outputs) if return_outputs else loss"
   ]
  },
  {
   "cell_type": "code",
   "execution_count": null,
   "id": "c97b1a0b-f1ff-42e1-ae62-a6adc0c39940",
   "metadata": {},
   "outputs": [],
   "source": [
    "def compute_metrics(pred):\n",
    "    labels = pred.label_ids\n",
    "    preds = pred.predictions.argmax(-1)\n",
    "    acc = accuracy_score(labels, preds)\n",
    "    macro_f1 = f1_score(labels, preds, average='macro')\n",
    "    f1 = f1_score(labels, preds, average='weighted')\n",
    "    f1_1 = f1_score(labels, preds, pos_label=1)\n",
    "    prec_1 = precision_score(labels, preds, pos_label=1, zero_division=0) \n",
    "    rec_1 = recall_score(labels, preds, pos_label=1)\n",
    "\n",
    "    return {'macro_f1': macro_f1, 'f1' : f1, 'acc': acc, 'f1_1': f1_1, 'prec_1': prec_1, 'rec_1': rec_1}"
   ]
  },
  {
   "cell_type": "code",
   "execution_count": null,
   "id": "85a0c20f-3ac2-4a01-8c1f-274ede649a6d",
   "metadata": {},
   "outputs": [],
   "source": [
    "#do outside of loop: class weights, stop words, bert model\n",
    "grid = {'learning_rate': [5e-5, 3e-5, 2e-5], \n",
    "             'batch_size': [32],#[16,32],\n",
    "             'num_epochs':[2,3,4],\n",
    "             'warm_up':[0,1], #,1000],\n",
    "             'metric_name':['f1_1'] #['macro_f1']\n",
    "        }"
   ]
  },
  {
   "cell_type": "code",
   "execution_count": null,
   "id": "d896e05c-9959-40cf-abe6-305d346d87f9",
   "metadata": {
    "tags": []
   },
   "outputs": [],
   "source": [
    "output = []\n",
    "n = 0\n",
    "#output_dir = '220323/results'\n",
    "#logging_dir = '220323/logs'\n",
    "# loop \n",
    "for params in ParameterGrid(grid):\n",
    "    n+=1\n",
    "    # make sure to create a new folder\n",
    "    os.mkdir(f\"220323/test{str(n)}\")\n",
    "    output_dir = f\"220323/test{str(n)}/results\"\n",
    "    logging_dir = f\"220323/test{str(n)}/logs\"\n",
    "    os.mkdir(output_dir)\n",
    "    os.mkdir(logging_dir)\n",
    "    \n",
    "    # make dictionary for performance scores\n",
    "    results = {'params':params}\n",
    "    \n",
    "    # (re)instiate model\n",
    "    model = BertForSequenceClassification.from_pretrained(modelpath, num_labels=2).to('cuda')\n",
    "    \n",
    "    # set training arguments\n",
    "    training_args = TrainingArguments(\n",
    "    num_train_epochs=params['num_epochs'],              # total number of training epochs\n",
    "    per_device_train_batch_size=params['batch_size'],  # batch size per device during training\n",
    "    per_device_eval_batch_size=params['batch_size'],   # batch size for evaluation\n",
    "    learning_rate=params['learning_rate'],  # initial learning rate for Adam optimizer\n",
    "    load_best_model_at_end=True,  # return best model after training\n",
    "    save_total_limit=2, # save max two checkpoints (best and last model in this case)\n",
    "    metric_for_best_model=params['metric_name'],             # best model evaluated on macro f1\n",
    "    warmup_steps=params['warm_up'],               # number of warmup steps for learning rate scheduler (set lower because of small dataset size) (default=0)\n",
    "    weight_decay=0.01,               # strength of weight decay\n",
    "    output_dir=output_dir,          # output directory\n",
    "    logging_dir=logging_dir,            # directory for storing logs\n",
    "    logging_steps=100,               # number of steps to output logging (set lower because of small dataset size)\n",
    "    evaluation_strategy='steps'     # evaluate during fine-tuning so that we can see progress\n",
    "    )\n",
    "    \n",
    "    # train train train\n",
    "    trainer = WeightedLossTrainer1(\n",
    "        model=model,                         # the instantiated 🤗 Transformers model to be trained\n",
    "        args=training_args,                  # training arguments, defined above\n",
    "        train_dataset=train_dataset,         # training dataset\n",
    "        eval_dataset=val_dataset,            # evaluation dataset\n",
    "        compute_metrics=compute_metrics)\n",
    "    \n",
    "    trainer.train()\n",
    "    \n",
    "    # evaluating on validation set\n",
    "    temp = trainer.evaluate()\n",
    "    results.update(temp)\n",
    "    print('.....RESULTS....')\n",
    "    print(params)\n",
    "    print(results)\n",
    "    print('\\n\\n')\n",
    "    output.append(results)\n",
    "\n",
    "# save dictionary as pickle\n",
    "pickle.dump(output, open('220323/BERTje_weights1.pickle', 'wb'))"
   ]
  },
  {
   "cell_type": "code",
   "execution_count": null,
   "id": "24a4967d-1073-4fd1-ac36-806558b22f26",
   "metadata": {
    "tags": []
   },
   "outputs": [],
   "source": [
    "#pickle.load(open('output_test.pickle', 'rb'))"
   ]
  },
  {
   "cell_type": "code",
   "execution_count": null,
   "id": "7a50549d-45f0-4f20-97c4-d5c2bf0b3250",
   "metadata": {},
   "outputs": [],
   "source": [
    "### EVALUATE BEST PARAMETERS ### "
   ]
  },
  {
   "cell_type": "code",
   "execution_count": null,
   "id": "49a6cbc6-0437-4463-9793-7a1294aa5394",
   "metadata": {},
   "outputs": [],
   "source": [
    "def make_df(output):\n",
    "    params_df = pd.DataFrame([d['params'] for d in output])\n",
    "    df = pd.DataFrame(output).drop(columns='params')\n",
    "    final_df = pd.concat([params_df, df], axis=1)\n",
    "    return final_df"
   ]
  },
  {
   "cell_type": "code",
   "execution_count": null,
   "id": "c3a2ddf6-9500-402e-b1a0-3a4335d63a59",
   "metadata": {},
   "outputs": [],
   "source": [
    "df = make_df(output)"
   ]
  },
  {
   "cell_type": "code",
   "execution_count": null,
   "id": "1a8ddb6a-97aa-4584-a73b-f823eff48197",
   "metadata": {},
   "outputs": [],
   "source": [
    "df.sort_values('eval_f1_1', ascending=False)"
   ]
  },
  {
   "cell_type": "code",
   "execution_count": null,
   "id": "1d6b78cd-2e69-45ad-881b-c84598b01ecf",
   "metadata": {},
   "outputs": [],
   "source": [
    "grid2 = {'learning_rate': [5e-5], \n",
    "             'batch_size': [16],#[16,32],\n",
    "             'num_epochs':[2, 3,4],\n",
    "             'warm_up':[0,1], #,1000],\n",
    "             'metric_name':['f1_1'] #['macro_f1']\n",
    "        }"
   ]
  },
  {
   "cell_type": "code",
   "execution_count": null,
   "id": "9326262d-c156-4983-a39b-fdc6fa229b19",
   "metadata": {
    "tags": []
   },
   "outputs": [],
   "source": [
    "output2 = []\n",
    "n = 18\n",
    "#output_dir = '220323/results'\n",
    "#logging_dir = '220323/logs'\n",
    "# loop \n",
    "for params in ParameterGrid(grid2):\n",
    "    n+=1\n",
    "    # make sure to create a new folder\n",
    "    os.mkdir(f\"220323/test{str(n)}\")\n",
    "    output_dir = f\"220323/test{str(n)}/results\"\n",
    "    logging_dir = f\"220323/test{str(n)}/logs\"\n",
    "    os.mkdir(output_dir)\n",
    "    os.mkdir(logging_dir)\n",
    "    \n",
    "    # make dictionary for performance scores\n",
    "    results = {'params':params}\n",
    "    \n",
    "    # (re)instiate model\n",
    "    model = BertForSequenceClassification.from_pretrained(modelpath, num_labels=2).to('cuda')\n",
    "    \n",
    "    # set training arguments\n",
    "    training_args = TrainingArguments(\n",
    "    num_train_epochs=params['num_epochs'],              # total number of training epochs\n",
    "    per_device_train_batch_size=params['batch_size'],  # batch size per device during training\n",
    "    per_device_eval_batch_size=params['batch_size'],   # batch size for evaluation\n",
    "    learning_rate=params['learning_rate'],  # initial learning rate for Adam optimizer\n",
    "    load_best_model_at_end=True,  # return best model after training\n",
    "    save_total_limit=2, # save max two checkpoints (best and last model in this case)\n",
    "    metric_for_best_model=params['metric_name'],             # best model evaluated on macro f1\n",
    "    warmup_steps=params['warm_up'],               # number of warmup steps for learning rate scheduler (set lower because of small dataset size) (default=0)\n",
    "    weight_decay=0.01,               # strength of weight decay\n",
    "    output_dir=output_dir,          # output directory\n",
    "    logging_dir=logging_dir,            # directory for storing logs\n",
    "    logging_steps=100,               # number of steps to output logging (set lower because of small dataset size)\n",
    "    evaluation_strategy='steps'     # evaluate during fine-tuning so that we can see progress\n",
    "    )\n",
    "    \n",
    "    # train train train\n",
    "    trainer = WeightedLossTrainer1(\n",
    "        model=model,                         # the instantiated 🤗 Transformers model to be trained\n",
    "        args=training_args,                  # training arguments, defined above\n",
    "        train_dataset=train_dataset,         # training dataset\n",
    "        eval_dataset=val_dataset,            # evaluation dataset\n",
    "        compute_metrics=compute_metrics)\n",
    "    \n",
    "    trainer.train()\n",
    "    \n",
    "    # evaluating on validation set\n",
    "    temp = trainer.evaluate()\n",
    "    results.update(temp)\n",
    "    print('.....RESULTS....')\n",
    "    print(params)\n",
    "    print(results)\n",
    "    print('\\n\\n')\n",
    "    output2.append(results)\n",
    "\n",
    "# save dictionary as pickle\n",
    "pickle.dump(output, open('220323/BERTje_weights1_2.pickle', 'wb'))"
   ]
  },
  {
   "cell_type": "code",
   "execution_count": null,
   "id": "f1bce590-87ca-4a13-a3d6-f3bd7b7cf387",
   "metadata": {},
   "outputs": [],
   "source": [
    "df = make_df(output2)"
   ]
  },
  {
   "cell_type": "code",
   "execution_count": null,
   "id": "b45a5dc9-8236-47fc-b0e5-20610afe1535",
   "metadata": {},
   "outputs": [],
   "source": [
    "df.sort_values('eval_f1_1', ascending=False)"
   ]
  },
  {
   "cell_type": "code",
   "execution_count": null,
   "id": "e37d25d9-dd3d-4f79-a571-32e437c8fbbc",
   "metadata": {},
   "outputs": [],
   "source": []
  },
  {
   "cell_type": "code",
   "execution_count": null,
   "id": "c53473f0-ab37-4600-8244-a841983f30f6",
   "metadata": {},
   "outputs": [],
   "source": [
    "grid3 = {'learning_rate': [5e-5], \n",
    "             'batch_size': [16,32],#[16,32],\n",
    "             'num_epochs':[3,4],\n",
    "             'warm_up':[0,1], #,1000],\n",
    "             'metric_name':['f1_1'] #['macro_f1']\n",
    "        }"
   ]
  },
  {
   "cell_type": "code",
   "execution_count": null,
   "id": "412e121b-2736-4a2a-8e56-12d9b449458d",
   "metadata": {
    "tags": []
   },
   "outputs": [],
   "source": [
    "output3 = []\n",
    "n = 24\n",
    "#output_dir = '220323/results'\n",
    "#logging_dir = '220323/logs'\n",
    "# loop \n",
    "for params in ParameterGrid(grid3):\n",
    "    n+=1\n",
    "    # make sure to create a new folder\n",
    "    os.mkdir(f\"220323/test{str(n)}\")\n",
    "    output_dir = f\"220323/test{str(n)}/results\"\n",
    "    logging_dir = f\"220323/test{str(n)}/logs\"\n",
    "    os.mkdir(output_dir)\n",
    "    os.mkdir(logging_dir)\n",
    "    \n",
    "    # make dictionary for performance scores\n",
    "    results = {'params':params}\n",
    "    \n",
    "    # (re)instiate model\n",
    "    model = BertForSequenceClassification.from_pretrained(modelpath, num_labels=2).to('cuda')\n",
    "    \n",
    "    # set training arguments\n",
    "    training_args = TrainingArguments(\n",
    "    num_train_epochs=params['num_epochs'],              # total number of training epochs\n",
    "    per_device_train_batch_size=params['batch_size'],  # batch size per device during training\n",
    "    per_device_eval_batch_size=params['batch_size'],   # batch size for evaluation\n",
    "    learning_rate=params['learning_rate'],  # initial learning rate for Adam optimizer\n",
    "    load_best_model_at_end=True,  # return best model after training\n",
    "    save_total_limit=2, # save max two checkpoints (best and last model in this case)\n",
    "    metric_for_best_model=params['metric_name'],             # best model evaluated on macro f1\n",
    "    warmup_steps=params['warm_up'],               # number of warmup steps for learning rate scheduler (set lower because of small dataset size) (default=0)\n",
    "    weight_decay=0.01,               # strength of weight decay\n",
    "    output_dir=output_dir,          # output directory\n",
    "    logging_dir=logging_dir,            # directory for storing logs\n",
    "    logging_steps=100,               # number of steps to output logging (set lower because of small dataset size)\n",
    "    evaluation_strategy='steps'     # evaluate during fine-tuning so that we can see progress\n",
    "    )\n",
    "    \n",
    "    # train train train\n",
    "    trainer = WeightedLossTrainer2(\n",
    "        model=model,                         # the instantiated 🤗 Transformers model to be trained\n",
    "        args=training_args,                  # training arguments, defined above\n",
    "        train_dataset=train_dataset,         # training dataset\n",
    "        eval_dataset=val_dataset,            # evaluation dataset\n",
    "        compute_metrics=compute_metrics)\n",
    "    \n",
    "    trainer.train()\n",
    "    \n",
    "    # evaluating on validation set\n",
    "    temp = trainer.evaluate()\n",
    "    results.update(temp)\n",
    "    print('.....RESULTS....')\n",
    "    print(params)\n",
    "    print(results)\n",
    "    print('\\n\\n')\n",
    "    output3.append(results)\n",
    "\n",
    "# save dictionary as pickle\n",
    "pickle.dump(output3, open('220323/BERTje_weights2.pickle', 'wb'))"
   ]
  },
  {
   "cell_type": "code",
   "execution_count": null,
   "id": "d3b6c4b6-8959-49d6-83c7-bcadf6362a5d",
   "metadata": {},
   "outputs": [],
   "source": [
    "output3 = pickle.load(open('220323/BERTje_weights2.pickle', 'rb'))"
   ]
  },
  {
   "cell_type": "code",
   "execution_count": null,
   "id": "68c93afc-f5ef-43c6-a5e7-215270c53e1d",
   "metadata": {},
   "outputs": [],
   "source": [
    "df = make_df(output3)"
   ]
  },
  {
   "cell_type": "code",
   "execution_count": null,
   "id": "a5094e8b-77d2-48b8-bf7e-9559ff408151",
   "metadata": {},
   "outputs": [],
   "source": [
    "df.sort_values('eval_f1_1', ascending=False)"
   ]
  },
  {
   "cell_type": "code",
   "execution_count": null,
   "id": "abda4ba5-270d-403f-81a5-43d291a843cf",
   "metadata": {},
   "outputs": [],
   "source": [
    "### NO WEIGHTS\n",
    "\n",
    "grid4 = {'learning_rate': [5e-5], \n",
    "             'batch_size': [16,32],#[16,32],\n",
    "             'num_epochs':[3,4],\n",
    "             'warm_up':[0,1], #,1000],\n",
    "             'metric_name':['f1_1'] #['macro_f1']\n",
    "        }"
   ]
  },
  {
   "cell_type": "code",
   "execution_count": null,
   "id": "dfef115e-857f-4a87-b01f-d2f8ce736eb8",
   "metadata": {
    "tags": []
   },
   "outputs": [],
   "source": [
    "output4 = []\n",
    "n = 0\n",
    "#output_dir = '220323/results'\n",
    "#logging_dir = '220323/logs'\n",
    "# loop \n",
    "for params in ParameterGrid(grid4):\n",
    "    n+=1\n",
    "    # make sure to create a new folder\n",
    "    os.mkdir(f\"220323/BERTje_noweights/test{str(n)}\")\n",
    "    output_dir = f\"220323/BERTje_noweights/test{str(n)}/results\"\n",
    "    logging_dir = f\"220323/BERTje_noweights/test{str(n)}/logs\"\n",
    "    os.mkdir(output_dir)\n",
    "    os.mkdir(logging_dir)\n",
    "    \n",
    "    # make dictionary for performance scores\n",
    "    results = {'params':params}\n",
    "    \n",
    "    # (re)instiate model\n",
    "    model = BertForSequenceClassification.from_pretrained(modelpath, num_labels=2).to('cuda')\n",
    "    \n",
    "    # set training arguments\n",
    "    training_args = TrainingArguments(\n",
    "    num_train_epochs=params['num_epochs'],              # total number of training epochs\n",
    "    per_device_train_batch_size=params['batch_size'],  # batch size per device during training\n",
    "    per_device_eval_batch_size=params['batch_size'],   # batch size for evaluation\n",
    "    learning_rate=params['learning_rate'],  # initial learning rate for Adam optimizer\n",
    "    load_best_model_at_end=True,  # return best model after training\n",
    "    save_total_limit=2, # save max two checkpoints (best and last model in this case)\n",
    "    metric_for_best_model=params['metric_name'],             # best model evaluated on macro f1\n",
    "    warmup_steps=params['warm_up'],               # number of warmup steps for learning rate scheduler (set lower because of small dataset size) (default=0)\n",
    "    weight_decay=0.01,               # strength of weight decay\n",
    "    output_dir=output_dir,          # output directory\n",
    "    logging_dir=logging_dir,            # directory for storing logs\n",
    "    logging_steps=100,               # number of steps to output logging (set lower because of small dataset size)\n",
    "    evaluation_strategy='steps'     # evaluate during fine-tuning so that we can see progress\n",
    "    )\n",
    "    \n",
    "    # train train train\n",
    "    trainer = Trainer(\n",
    "        model=model,                         # the instantiated 🤗 Transformers model to be trained\n",
    "        args=training_args,                  # training arguments, defined above\n",
    "        train_dataset=train_dataset,         # training dataset\n",
    "        eval_dataset=val_dataset,            # evaluation dataset\n",
    "        compute_metrics=compute_metrics)\n",
    "    \n",
    "    trainer.train()\n",
    "    \n",
    "    # evaluating on validation set\n",
    "    temp = trainer.evaluate()\n",
    "    results.update(temp)\n",
    "    print('.....RESULTS....')\n",
    "    print(params)\n",
    "    print(results)\n",
    "    print('\\n\\n')\n",
    "    output4.append(results)\n",
    "\n",
    "# save dictionary as pickle\n",
    "pickle.dump(output4, open('220323/BERTje_noweights.pickle', 'wb'))"
   ]
  },
  {
   "cell_type": "code",
   "execution_count": null,
   "id": "e9489532-6dc7-4d20-8a8f-c0521cdd2758",
   "metadata": {},
   "outputs": [],
   "source": [
    "df = make_df(output4)\n",
    "df.sort_values('eval_f1_1', ascending=False)"
   ]
  },
  {
   "cell_type": "markdown",
   "id": "ef6ab9d4-9a85-49ec-908d-e57de4ae5a7a",
   "metadata": {},
   "source": [
    "### Evaluate on test set\n",
    "Best model: test25"
   ]
  },
  {
   "cell_type": "code",
   "execution_count": null,
   "id": "57e400ff-d695-46e1-b578-b5ea62a286db",
   "metadata": {},
   "outputs": [],
   "source": [
    "# best model (.65 f1, .73 prec, .58 rec): test25 - args bs16, 5e-5, epochs 3, warm up 0, balanced weights"
   ]
  },
  {
   "cell_type": "code",
   "execution_count": null,
   "id": "3a91cb46-a8fb-42b0-9eb8-a8bf8ca598f5",
   "metadata": {},
   "outputs": [],
   "source": [
    "# Load the best model and the arguments based on the validation set.\n",
    "best_path = \"220323/test25/results/checkpoint-2000\"\n",
    "model = BertForSequenceClassification.from_pretrained(best_path)\n",
    "arguments = torch.load(f\"{best_path}/training_args.bin\")"
   ]
  },
  {
   "cell_type": "code",
   "execution_count": null,
   "id": "d6a4ba0c-3eb3-4132-b55b-9ecc1ff40d28",
   "metadata": {},
   "outputs": [],
   "source": [
    "trainer = WeightedLossTrainer2(model=model, args=arguments)"
   ]
  },
  {
   "cell_type": "code",
   "execution_count": null,
   "id": "5d469938-07a2-47fb-a356-253aa788676f",
   "metadata": {},
   "outputs": [],
   "source": [
    "# predict the test data set\n",
    "preds = trainer.predict(test_dataset)\n",
    "print(preds.predictions.shape)\n",
    "predicted_labels = preds.predictions.argmax(-1) # Get the highest probability prediction\n",
    "predicted_labels = predicted_labels.flatten().tolist()      # Flatten the predictions into a 1D list"
   ]
  },
  {
   "cell_type": "code",
   "execution_count": null,
   "id": "77fe79a6-a247-480e-a1a5-3d3b40915631",
   "metadata": {},
   "outputs": [],
   "source": [
    "# evaluate the outcome\n",
    "print(classification_report(y_test, predicted_labels))"
   ]
  }
 ],
 "metadata": {
  "kernelspec": {
   "display_name": "Python 3",
   "language": "python",
   "name": "python3"
  },
  "language_info": {
   "codemirror_mode": {
    "name": "ipython",
    "version": 3
   },
   "file_extension": ".py",
   "mimetype": "text/x-python",
   "name": "python",
   "nbconvert_exporter": "python",
   "pygments_lexer": "ipython3",
   "version": "3.8.2"
  }
 },
 "nbformat": 4,
 "nbformat_minor": 5
}
