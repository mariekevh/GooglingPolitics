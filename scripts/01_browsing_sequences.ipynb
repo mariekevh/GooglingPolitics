{
 "cells": [
  {
   "cell_type": "markdown",
   "id": "3fc08b24-bbdd-4e78-967b-44009fe52bfe",
   "metadata": {},
   "source": [
    "# Browsing sequences approach\n",
    "\n",
    "Note: Note that the browsing history data cannot be shared publicly due to privacy reasons. "
   ]
  },
  {
   "cell_type": "code",
   "execution_count": null,
   "id": "4e7485a9-7c20-42e4-b25b-f992da028cac",
   "metadata": {},
   "outputs": [],
   "source": [
    "import pandas as pd\n",
    "import numpy as np\n",
    "import os\n",
    "from datetime import datetime, timedelta\n",
    "import re\n",
    "import nltk\n",
    "nltk.download('stopwords')\n",
    "nltk.download('punkt')\n",
    "from nltk.corpus import stopwords\n",
    "stopwords = stopwords.words('dutch')\n",
    "from nltk.stem.snowball import SnowballStemmer\n",
    "from nltk.tokenize import word_tokenize\n",
    "stemmer = SnowballStemmer('dutch')"
   ]
  },
  {
   "cell_type": "code",
   "execution_count": null,
   "id": "7f25cfaf-ef7b-416d-bd25-248de31b94ad",
   "metadata": {},
   "outputs": [],
   "source": [
    "df = pd.read_csv(\"browser2022.csv\")\n",
    "df.shape"
   ]
  },
  {
   "cell_type": "code",
   "execution_count": null,
   "id": "9cd02f9e-8b8d-455f-9116-dc061d5f363f",
   "metadata": {},
   "outputs": [],
   "source": [
    "df.submission_id.nunique()"
   ]
  },
  {
   "cell_type": "code",
   "execution_count": null,
   "id": "6afe189e-c35e-4904-bd67-1f48d3190902",
   "metadata": {},
   "outputs": [],
   "source": [
    "df.final_category.value_counts()"
   ]
  },
  {
   "cell_type": "markdown",
   "id": "4fa384c2-d1c5-4749-bcf3-0ca5f22b6faa",
   "metadata": {},
   "source": [
    "#### Add annotations"
   ]
  },
  {
   "cell_type": "code",
   "execution_count": null,
   "id": "aa4ef8b5-0ad7-4652-9418-5ec670de7ec7",
   "metadata": {},
   "outputs": [],
   "source": [
    "# file with manual labels.\n",
    "labels = pd.read_csv(\"data/annotations.csv\")\n",
    "labels.shape"
   ]
  },
  {
   "cell_type": "code",
   "execution_count": null,
   "id": "daff4f62-130c-4850-b2c5-97861c4a072b",
   "metadata": {},
   "outputs": [],
   "source": [
    "labels.Q1_checked.value_counts(dropna=False)"
   ]
  },
  {
   "cell_type": "code",
   "execution_count": null,
   "id": "188e593c-f8a4-455e-867f-490c2182dee3",
   "metadata": {},
   "outputs": [],
   "source": [
    "def preprocess(x):\n",
    "    return re.sub(r'[^\\w\\s]|_', '', x.lower()).strip()"
   ]
  },
  {
   "cell_type": "code",
   "execution_count": null,
   "id": "93cf4a71-256e-44b8-8591-7334176cd382",
   "metadata": {},
   "outputs": [],
   "source": [
    "# clean strings for perfect matching\n",
    "labels['q_match'] = labels['q'].apply(preprocess)\n",
    "df['q_match'] = df[~df[\"q\"].isna()]['q'].apply(preprocess)"
   ]
  },
  {
   "cell_type": "code",
   "execution_count": null,
   "id": "1449ec5c-5672-4df8-8aa4-57d0f5908734",
   "metadata": {},
   "outputs": [],
   "source": [
    "# check overlap\n",
    "labels['exists'] = labels['q_match'].isin(df['q_match'])\n",
    "labels.exists.value_counts(dropna=False)"
   ]
  },
  {
   "cell_type": "code",
   "execution_count": null,
   "id": "621a0a60-8542-4f56-8fab-97d3ce153321",
   "metadata": {},
   "outputs": [],
   "source": [
    "## add batch nr from other df\n",
    "# file with manual labels.\n",
    "org = pd.read_csv(\"annotations_18012023.csv\")\n",
    "print(org.shape)\n",
    "org['q_match'] = org['q'].apply(preprocess)\n",
    "# keep first coded duplicated query.\n",
    "org['RecordedDate'] = pd.to_datetime(org['RecordedDate'])\n",
    "org = org.sort_values(['RecordedDate'], ascending=True)\n",
    "org = org.drop_duplicates('q_match', keep='first')\n",
    "print(org.q.nunique(), org.shape)\n",
    "## add batch nr to quality checked annotations\n",
    "labels = pd.merge(labels, org[['q_match', 'batch']], how='left', on='q_match')"
   ]
  },
  {
   "cell_type": "code",
   "execution_count": null,
   "id": "fc5fa5c4-762d-4819-81e7-559f3800d51b",
   "metadata": {},
   "outputs": [],
   "source": [
    "labels.shape"
   ]
  },
  {
   "cell_type": "code",
   "execution_count": null,
   "id": "6ac6fa7e-9cf4-400e-8009-97fbb01e36e0",
   "metadata": {},
   "outputs": [],
   "source": [
    "labels.batch.value_counts()"
   ]
  },
  {
   "cell_type": "code",
   "execution_count": null,
   "id": "d1c72693-c066-474d-8725-06f89cc0e1ae",
   "metadata": {},
   "outputs": [],
   "source": [
    "labels.groupby('batch')['Q1_checked'].value_counts(normalize=True)"
   ]
  },
  {
   "cell_type": "code",
   "execution_count": null,
   "id": "ee624556-f57f-4176-ab12-5b4cae7bd5c2",
   "metadata": {},
   "outputs": [],
   "source": [
    "labels.Q1_checked.value_counts()"
   ]
  },
  {
   "cell_type": "code",
   "execution_count": null,
   "id": "b5123de0-4b0c-4613-ab75-2495c9b49d45",
   "metadata": {},
   "outputs": [],
   "source": [
    "df = pd.merge(df, labels[[\"q_match\", \"Q1_checked\", \"batch\"]], on='q_match', how='left')\n",
    "df.shape"
   ]
  },
  {
   "cell_type": "code",
   "execution_count": null,
   "id": "36650ac0-76b7-494e-bcbe-668f193b81ec",
   "metadata": {},
   "outputs": [],
   "source": [
    "df.head()"
   ]
  },
  {
   "cell_type": "code",
   "execution_count": null,
   "id": "5ec30e16-cef3-4863-9f62-e7663dc1fa0b",
   "metadata": {},
   "outputs": [],
   "source": [
    "## add predicted political news headlines\n",
    "# Note that we cannot share this dataset, but the classifier used here and data are publicly available (see paper).\n",
    "pol_news = pd.read_csv(\"predicted_headlines12102022.csv\")\n",
    "pol_news.shape"
   ]
  },
  {
   "cell_type": "code",
   "execution_count": null,
   "id": "fa1e7bd8-d8e7-4750-b98a-6859938d17c6",
   "metadata": {},
   "outputs": [],
   "source": [
    "pol_news.head()"
   ]
  },
  {
   "cell_type": "code",
   "execution_count": null,
   "id": "589ef952-15ed-4426-a34d-e42759b78ce8",
   "metadata": {},
   "outputs": [],
   "source": [
    "df = pd.merge(df, pol_news[['title', 'prediction']], how='left', on='title')\n",
    "df.shape"
   ]
  },
  {
   "cell_type": "code",
   "execution_count": null,
   "id": "a19f08b6-9f55-4cf3-9d74-3a68aae65eab",
   "metadata": {},
   "outputs": [],
   "source": [
    "# make sure only institutional news get these labels.\n",
    "df['prediction']=np.where((df.final_category.isin(['inst', 'non_inst']))&(df.prediction==1),1,0)"
   ]
  },
  {
   "cell_type": "code",
   "execution_count": null,
   "id": "666feb90-8fd7-4d42-865b-31ca42a7859d",
   "metadata": {},
   "outputs": [],
   "source": [
    "df.groupby('final_category')['prediction'].value_counts(dropna=False)"
   ]
  },
  {
   "cell_type": "code",
   "execution_count": null,
   "id": "4a28de32-8374-4c08-919d-bbd164cf2321",
   "metadata": {},
   "outputs": [],
   "source": [
    "## able to label 2286 non_inst news visits, 76926 inst news visits as political. "
   ]
  },
  {
   "cell_type": "markdown",
   "id": "21a7644e-2ede-4d83-8f5c-ded131b83e74",
   "metadata": {},
   "source": [
    "#### Search to news paths"
   ]
  },
  {
   "cell_type": "code",
   "execution_count": null,
   "id": "e4048950-92c6-4514-801b-54e0fe7397d8",
   "metadata": {},
   "outputs": [],
   "source": [
    "# make datetime object\n",
    "df['date_dt'] = pd.to_datetime(df.time, unit='us', utc=True).map(lambda x: x.tz_convert('Europe/Amsterdam'))\n",
    "# sort records again to be sure. (from old to new)\n",
    "df = df.sort_values(['submission_id', 'date_dt'], ascending=True)"
   ]
  },
  {
   "cell_type": "code",
   "execution_count": null,
   "id": "86c05d4f-857e-437a-b76c-2267aedbe04e",
   "metadata": {},
   "outputs": [],
   "source": [
    "# recalculate time difference in seconds to previous row within submission id\n",
    "df['diff_secs'] = df.groupby(['submission_id'])[\"date_dt\"].diff().dt.total_seconds()\n",
    "df['diff_mins'] = df.diff_secs/60"
   ]
  },
  {
   "cell_type": "code",
   "execution_count": null,
   "id": "c4b50820-1022-466c-9aea-3fd0647529ca",
   "metadata": {},
   "outputs": [],
   "source": [
    "# na means that no search was performed.\n",
    "df['text_search'] = df['text_search'].fillna(0)"
   ]
  },
  {
   "cell_type": "code",
   "execution_count": null,
   "id": "14c1509c-829e-4025-87a4-c46ab67b0eb3",
   "metadata": {},
   "outputs": [],
   "source": [
    "# transition types in general\n",
    "df.transition.value_counts(dropna=False)"
   ]
  },
  {
   "cell_type": "code",
   "execution_count": null,
   "id": "ab53b418-d7c6-42e8-8e0f-de7e65afc428",
   "metadata": {},
   "outputs": [],
   "source": [
    "# transition type for searches\n",
    "df[df.text_search==1].transition.value_counts(dropna=False)"
   ]
  },
  {
   "cell_type": "markdown",
   "id": "47fc2787-fdff-4d2b-9ad8-51c2f1a3ff65",
   "metadata": {},
   "source": [
    "# Make variables"
   ]
  },
  {
   "cell_type": "code",
   "execution_count": null,
   "id": "a5b89c13-ad0d-4105-9a01-5354ec3733f1",
   "metadata": {},
   "outputs": [],
   "source": [
    "# next domain, category, query and transition type \n",
    "df['domain_next'] = df.groupby('submission_id')['domain'].shift(-1)\n",
    "df['final_category_next'] = df.groupby('submission_id')['final_category'].shift(-1)\n",
    "df['prediction_next'] = df.groupby('submission_id')['prediction'].shift(-1)\n",
    "df['transition_next'] = df.groupby('submission_id')['transition'].shift(-1)\n",
    "df['q_next'] = df.groupby('submission_id')['q'].shift(-1)\n",
    "df['diff_secs_next'] = df.groupby('submission_id')['diff_secs'].shift(-1)\n",
    "df['text_search_next'] = df.groupby('submission_id')['text_search'].shift(-1)"
   ]
  },
  {
   "cell_type": "code",
   "execution_count": null,
   "id": "cd68906e-32f9-41a8-8bb1-333fabc1ff93",
   "metadata": {},
   "outputs": [],
   "source": [
    "df[['domain', 'domain_next', 'final_category', 'final_category_next', 'prediction', 'prediction_next', 'diff_secs', 'diff_secs_next', 'text_search', 'text_search_next']].head(10)"
   ]
  },
  {
   "cell_type": "markdown",
   "id": "98ec9d5e-998c-4306-ae2d-9cbe78f7f68b",
   "metadata": {},
   "source": [
    "__serach-to-search__ --> Next website\n",
    "1. is a search\n",
    "2. accessed within 30 seconds\n",
    "3. is not a reload\n",
    "\n",
    "__no-visit30__ --> Next website\n",
    "1. is not a another search and is not transition type link, OR\n",
    "2. is *not* accessed within 30 seconds of the search\n"
   ]
  },
  {
   "cell_type": "code",
   "execution_count": null,
   "id": "90261d11-3a7c-4427-8554-b04b641645a5",
   "metadata": {},
   "outputs": [],
   "source": [
    "news = [\"inst\", \"non_inst\"]\n",
    "news_bg = [\"inst\", \"non_inst\", \"bg_info\"]"
   ]
  },
  {
   "cell_type": "code",
   "execution_count": null,
   "id": "ed94e55a-ff5d-4433-ac1f-b3c57115244e",
   "metadata": {},
   "outputs": [],
   "source": [
    "# search-to-search\n",
    "s2s = (df['text_search']==1)&(df['text_search_next']==1)&(df['diff_secs_next']<=30)&(df['transition_next']!='RELOAD')\n",
    "df['search_to_search'] = np.where(s2s, 1, 0)\n",
    "df[df.text_search==1]['search_to_search'].value_counts(dropna=False)"
   ]
  },
  {
   "cell_type": "code",
   "execution_count": null,
   "id": "419a5c87-fe36-41d4-87bb-021f32865bdd",
   "metadata": {},
   "outputs": [],
   "source": [
    "# this makes sense.\n",
    "df[df['search_to_search']==1].domain_next.value_counts(dropna=False)"
   ]
  },
  {
   "cell_type": "code",
   "execution_count": null,
   "id": "47cd3d06-14d5-4f2b-9d66-4f429f43772f",
   "metadata": {},
   "outputs": [],
   "source": [
    "# no_visit30 --> if it is not accessed via a link and it is not a search.\n",
    "nv30_1 = (df['text_search']==1)&(df['transition_next']!='LINK')&(df['text_search_next']==0)\n",
    "df['no_visit30'] = np.where(nv30_1, 1, 0)\n",
    "df[df.text_search==1]['no_visit30'].value_counts(dropna=False)"
   ]
  },
  {
   "cell_type": "code",
   "execution_count": null,
   "id": "23ba1637-17ee-4172-82c0-ddbaa9285ca7",
   "metadata": {},
   "outputs": [],
   "source": [
    "# # if search was not classified as no_visit30, but more htan 30 seconds \n",
    "#--> also label as no visit, otherwise take original value\n",
    "nv30_2 = (df['text_search']==1)&(df['diff_secs_next']>30)&(df['no_visit30']==0)\n",
    "df['no_visit30'] = np.where(nv30_2, 1, df['no_visit30']) \n",
    "df[df.text_search==1]['no_visit30'].value_counts(dropna=False)"
   ]
  },
  {
   "cell_type": "code",
   "execution_count": null,
   "id": "abe3f158-062e-4487-9877-c44e3a81cd9f",
   "metadata": {},
   "outputs": [],
   "source": [
    "df[df.text_search==1]['no_visit30'].value_counts(dropna=False, normalize=True)"
   ]
  },
  {
   "cell_type": "code",
   "execution_count": null,
   "id": "aafcf979-f75c-4963-8d2e-47c0987dce15",
   "metadata": {},
   "outputs": [],
   "source": [
    "# examples of domains that are no visits.\n",
    "# google is possible, because it can still be accessed outside of 30 seconds\n",
    "df[(df.text_search==1)&(df['no_visit30']==1)].domain_next.value_counts(dropna=False)"
   ]
  },
  {
   "cell_type": "code",
   "execution_count": null,
   "id": "a19c2a45-2e34-4997-ae75-c58cf0b1d727",
   "metadata": {},
   "outputs": [],
   "source": [
    "### how many lead to website other than inst, non-inst or bg info but is not search? (given the same operationalisation as paths and is not search)\n",
    "mask = (df['text_search']==1)&(~df['final_category_next'].isin(news_bg))&(df['transition_next']=='LINK')&(df['diff_secs_next']<=30)&(df['text_search_next']==0)\n",
    "df[\"s_to_other_30\"] = np.where(mask, 1, 0)\n",
    "df[df.text_search==1]['s_to_other_30'].value_counts(dropna=False)"
   ]
  },
  {
   "cell_type": "code",
   "execution_count": null,
   "id": "9e6616b6-1835-4746-8382-6f799a896cbc",
   "metadata": {},
   "outputs": [],
   "source": [
    "df[df[\"s_to_other_30\"]==1].domain_next.value_counts(dropna=False)"
   ]
  },
  {
   "cell_type": "code",
   "execution_count": null,
   "id": "5518084c-40fb-4a58-a017-3e875cad6d2f",
   "metadata": {},
   "outputs": [],
   "source": [
    "df.groupby('no_visit30').search_to_search.value_counts(dropna=False)"
   ]
  },
  {
   "cell_type": "code",
   "execution_count": null,
   "id": "02071436-ddfe-4591-a7b7-d4ce085842fd",
   "metadata": {},
   "outputs": [],
   "source": [
    "# 26% of all searches lead to another search (and are not simply reloads)\n",
    "print(df[df.text_search==1].search_to_search.value_counts(dropna=False))\n",
    "print(df[df.text_search==1].search_to_search.value_counts(normalize=True, dropna=False))"
   ]
  },
  {
   "cell_type": "code",
   "execution_count": null,
   "id": "34ae8cca-02f8-4098-95e2-5a5e74e3c3e6",
   "metadata": {},
   "outputs": [],
   "source": [
    "# 24% of searches do not lead to another search nor a visit\n",
    "print(df[df.text_search==1].no_visit30.value_counts(dropna=False))\n",
    "print(df[df.text_search==1].no_visit30.value_counts(normalize=True, dropna=False))"
   ]
  },
  {
   "cell_type": "code",
   "execution_count": null,
   "id": "b8c0331b-0d8b-4ea9-ac8d-6587b23dcdd5",
   "metadata": {},
   "outputs": [],
   "source": [
    "# 47% of searches (n = 3660) lead to a website other than news or bg info within 30 seconds.\n",
    "print(df[df.text_search==1].s_to_other_30.value_counts(dropna=False))\n",
    "print(df[df.text_search==1].s_to_other_30.value_counts(normalize=True, dropna=False))"
   ]
  },
  {
   "cell_type": "code",
   "execution_count": null,
   "id": "f12b0772-9878-43d5-823d-29493ec34522",
   "metadata": {},
   "outputs": [],
   "source": [
    "df.groupby('no_visit30').s_to_other_30.value_counts(dropna=False)"
   ]
  },
  {
   "cell_type": "markdown",
   "id": "019f7402-d5ee-426d-8c50-00ee5cf8a8c8",
   "metadata": {},
   "source": [
    "# Paths \n",
    "Search-to-news occurs when a news-related website visited is a direct result of the search. In practice this is based on three variables. The row immediately sequential a text search is..\n",
    "1. of the transition type LINK (transition type)\n",
    "2. inst, non-inst, and/or background info (domain category)\n",
    "3. accessed within 30 or 5 minutes (difference between visit timestamps)"
   ]
  },
  {
   "cell_type": "code",
   "execution_count": null,
   "id": "abc299ca-508d-4a7f-bce8-9ab78c1312ff",
   "metadata": {},
   "outputs": [],
   "source": [
    "# 30 seconds\n",
    "mask = (df['text_search']==1)&(df['final_category_next']==\"inst\")&(df['transition_next']=='LINK')&(df['diff_secs_next']<=30)\n",
    "df[\"s_to_inst_news_30\"] = np.where(mask, 1, 0)\n",
    "df[df.text_search==1]['s_to_inst_news_30'].value_counts(dropna=False)"
   ]
  },
  {
   "cell_type": "code",
   "execution_count": null,
   "id": "62eca78a-538e-4f89-96c3-06b0ca27c6e5",
   "metadata": {},
   "outputs": [],
   "source": [
    "df[df.text_search==1]['s_to_inst_news_30'].value_counts(dropna=False, normalize=True)"
   ]
  },
  {
   "cell_type": "code",
   "execution_count": null,
   "id": "28886fc7-391d-4eaa-8ac1-739da0ca292c",
   "metadata": {},
   "outputs": [],
   "source": [
    "mask = (df['text_search']==1)&(df['final_category_next']==\"inst\")&(df['transition_next']=='LINK')&(df['diff_secs_next']<=30)&(df['prediction_next']==1)\n",
    "df[\"s_to_pol_inst_news_30\"] = np.where(mask, 1, 0)\n",
    "df[df.text_search==1]['s_to_pol_inst_news_30'].value_counts(dropna=False)"
   ]
  },
  {
   "cell_type": "code",
   "execution_count": null,
   "id": "adf52a1c-726b-40e8-98a1-c351c22bd396",
   "metadata": {},
   "outputs": [],
   "source": [
    "df[df.text_search==1]['s_to_pol_inst_news_30'].value_counts(dropna=False, normalize=True)"
   ]
  },
  {
   "cell_type": "code",
   "execution_count": null,
   "id": "fba18c23-0e8d-46c7-88cc-ab8a6acb103e",
   "metadata": {},
   "outputs": [],
   "source": [
    "mask = (df['text_search']==1)&(df['final_category_next'].isin(news))&(df['transition_next']=='LINK')&(df['diff_secs_next']<=30)\n",
    "df[\"s_to_news_30\"] = np.where(mask, 1, 0)\n",
    "df[df.text_search==1]['s_to_news_30'].value_counts(dropna=False)"
   ]
  },
  {
   "cell_type": "code",
   "execution_count": null,
   "id": "f9a2106a-c8ba-4470-b78d-996d890507f6",
   "metadata": {},
   "outputs": [],
   "source": [
    "df[df.text_search==1]['s_to_news_30'].value_counts(dropna=False,normalize=True)"
   ]
  },
  {
   "cell_type": "code",
   "execution_count": null,
   "id": "02ff42b9-d418-45e3-b14a-628de953091d",
   "metadata": {},
   "outputs": [],
   "source": [
    "mask = (df['text_search']==1)&(df['final_category_next'].isin(news))&(df['transition_next']=='LINK')&(df['diff_secs_next']<=30)&(df['prediction_next']==1)\n",
    "df[\"s_to_pol_news_30\"] = np.where(mask, 1, 0)\n",
    "df[df.text_search==1]['s_to_pol_news_30'].value_counts(dropna=False)"
   ]
  },
  {
   "cell_type": "code",
   "execution_count": null,
   "id": "36d6a014-2c61-4576-8437-6fbc7286e8c8",
   "metadata": {},
   "outputs": [],
   "source": [
    "df[df.text_search==1]['s_to_pol_news_30'].value_counts(dropna=False, normalize=True)"
   ]
  },
  {
   "cell_type": "code",
   "execution_count": null,
   "id": "4a5731d6-fb58-4a0b-b8f5-34c51555c700",
   "metadata": {},
   "outputs": [],
   "source": [
    "mask = (df['text_search']==1)&(df['final_category_next'].isin(news_bg))&(df['transition_next']=='LINK')&(df['diff_secs_next']<=30)\n",
    "df[\"s_to_news_bg_30\"] = np.where(mask, 1, 0)\n",
    "df[df.text_search==1]['s_to_news_bg_30'].value_counts(dropna=False)"
   ]
  },
  {
   "cell_type": "code",
   "execution_count": null,
   "id": "934d04d5-b137-4e3c-9ee6-13c9fa6254f7",
   "metadata": {},
   "outputs": [],
   "source": [
    "df[df.text_search==1]['s_to_news_bg_30'].value_counts(dropna=False, normalize=True)"
   ]
  },
  {
   "cell_type": "code",
   "execution_count": null,
   "id": "05634d4f-bc9e-4ecf-b08f-cd57dc453e20",
   "metadata": {},
   "outputs": [],
   "source": [
    "mask = (df['text_search']==1)& ((df['final_category_next']=='bg_info') | (df['prediction_next']==1))&(df['transition_next']=='LINK')&(df['diff_secs_next']<=30)\n",
    "df[\"s_to_pol_news_bg_30\"] = np.where(mask, 1, 0)\n",
    "df[df.text_search==1]['s_to_pol_news_bg_30'].value_counts(dropna=False)"
   ]
  },
  {
   "cell_type": "code",
   "execution_count": null,
   "id": "c223b1de-8ad1-43a7-9f68-989ee8c60d12",
   "metadata": {},
   "outputs": [],
   "source": [
    "df[df.text_search==1]['s_to_pol_news_bg_30'].value_counts(dropna=False, normalize=True)"
   ]
  },
  {
   "cell_type": "code",
   "execution_count": null,
   "id": "78f45f19-b894-482b-b606-c5c8fb4fcae8",
   "metadata": {},
   "outputs": [],
   "source": [
    "# 5 minutes\n",
    "mask = (df['text_search']==1)&(df['final_category_next']==\"inst\")&(df['transition_next']=='LINK')&(df['diff_secs_next']<=300)\n",
    "df[\"s_to_inst_news_5\"] = np.where(mask, 1, 0)\n",
    "df[df.text_search==1]['s_to_inst_news_5'].value_counts(dropna=False)"
   ]
  },
  {
   "cell_type": "code",
   "execution_count": null,
   "id": "b6c5cbf7-5edf-4afa-8f07-a9a3ad954c75",
   "metadata": {},
   "outputs": [],
   "source": [
    "mask = (df['text_search']==1)&(df['final_category_next'].isin(news))&(df['transition_next']=='LINK')&(df['diff_secs_next']<=300)\n",
    "df[\"s_to_news_5\"] = np.where(mask, 1, 0)\n",
    "df[df.text_search==1]['s_to_news_5'].value_counts(dropna=False)"
   ]
  },
  {
   "cell_type": "code",
   "execution_count": null,
   "id": "d4304ddd-0f9c-4eb7-a0ab-044f8c8c13c3",
   "metadata": {},
   "outputs": [],
   "source": [
    "mask = (df['text_search']==1)&(df['final_category_next'].isin(news_bg))&(df['transition_next']=='LINK')&(df['diff_secs_next']<=300)\n",
    "df[\"s_to_news_bg_5\"] = np.where(mask, 1, 0)\n",
    "df[df.text_search==1]['s_to_news_bg_5'].value_counts(dropna=False)"
   ]
  },
  {
   "cell_type": "markdown",
   "id": "e418f1e7-839e-4c44-84e9-2c3a61fd21e4",
   "metadata": {},
   "source": [
    "# Evaluation"
   ]
  },
  {
   "cell_type": "code",
   "execution_count": null,
   "id": "836b94fb-6070-4ba0-8ac4-a6ab543f2bdd",
   "metadata": {},
   "outputs": [],
   "source": [
    "from sklearn.metrics import classification_report"
   ]
  },
  {
   "cell_type": "code",
   "execution_count": null,
   "id": "a5dc25dc-3db6-482d-a6e9-73fccb75012b",
   "metadata": {},
   "outputs": [],
   "source": [
    "def make_metrics(lst, df):\n",
    "    new = []\n",
    "    for x in lst:\n",
    "        dct = classification_report(y_true=df.Q1_checked, y_pred=df[x], output_dict=True)\n",
    "        dct = dct['1.0']\n",
    "        dct.update({'model':x})\n",
    "        new.append(dct)\n",
    "    new=pd.DataFrame(new).set_index('model')\n",
    "    return new"
   ]
  },
  {
   "cell_type": "markdown",
   "id": "a88b99a4-5842-4ee6-8d97-683e3b52f99b",
   "metadata": {},
   "source": [
    "### test set"
   ]
  },
  {
   "cell_type": "code",
   "execution_count": null,
   "id": "46ea234d-601a-4198-8b32-cc2141456ecd",
   "metadata": {},
   "outputs": [],
   "source": [
    "# test dataset\n",
    "X_test = np.load(\"train_test_split/X_test.npy\", allow_pickle=True).tolist()\n",
    "y_test = np.load(\"train_test_split/y_test.npy\", allow_pickle=True).tolist()\n",
    "print(len(y_test))"
   ]
  },
  {
   "cell_type": "code",
   "execution_count": null,
   "id": "f8504889-9a9d-4b86-856b-30eeef615694",
   "metadata": {},
   "outputs": [],
   "source": [
    "X_test = [preprocess(x) for x in X_test]\n",
    "df2 = pd.DataFrame({\"test_set\":X_test})"
   ]
  },
  {
   "cell_type": "code",
   "execution_count": null,
   "id": "c78828fd-8137-47f3-85c1-868dbab5efbf",
   "metadata": {},
   "outputs": [],
   "source": [
    "merged = pd.merge(df2, df, left_on='test_set', right_on='q_match', how='left')\n",
    "merged.shape"
   ]
  },
  {
   "cell_type": "code",
   "execution_count": null,
   "id": "647337e4-669c-4b21-83e3-839b8c79bc88",
   "metadata": {},
   "outputs": [],
   "source": [
    "# matching worked well\n",
    "merged.test_set.nunique()"
   ]
  },
  {
   "cell_type": "code",
   "execution_count": null,
   "id": "a8998a58-d369-4742-b2bb-34e7574788a5",
   "metadata": {},
   "outputs": [],
   "source": [
    "merged.batch.value_counts(dropna=False)"
   ]
  },
  {
   "cell_type": "code",
   "execution_count": null,
   "id": "d7ee42eb-af38-4eee-a390-15c9174ad684",
   "metadata": {},
   "outputs": [],
   "source": [
    "preds_full = merged[['s_to_news_bg_30', 'test_set', 'domain_next', 'final_category_next']].copy()\n",
    "preds_full = preds_full.rename(columns={\"s_to_news_bg_30\":\"sequences\", \"test_set\":\"X_test\", \"domain_next\":\"domain_next\", 'final_category_next':'final_category_next'})\n",
    "preds_full.to_csv('sequences_preds_full.csv',index=False)\n",
    "print(preds_full.shape)\n",
    "preds_full"
   ]
  },
  {
   "cell_type": "code",
   "execution_count": null,
   "id": "bfb264ae-111f-49b9-a918-394e269041c5",
   "metadata": {},
   "outputs": [],
   "source": [
    "# only batch 1 and 2, because batch 3 (and 4) oversampled these types of queries.\n",
    "b1_2 = merged[merged.batch.isin([\"b1\", \"b2\"])]\n",
    "b1_2.batch.value_counts(dropna=False)"
   ]
  },
  {
   "cell_type": "code",
   "execution_count": null,
   "id": "d598294d-a5ee-4416-8e94-ff15c13b8b63",
   "metadata": {},
   "outputs": [],
   "source": [
    "# only consider text searches and not the other ones.\n",
    "b1_2 = b1_2[b1_2['text_search']==1]\n",
    "b1_2.shape"
   ]
  },
  {
   "cell_type": "code",
   "execution_count": null,
   "id": "b3e09acf-da70-44c0-8e2d-abecbc7329e9",
   "metadata": {},
   "outputs": [],
   "source": [
    "b1_2.Q1_checked.value_counts()"
   ]
  },
  {
   "cell_type": "code",
   "execution_count": null,
   "id": "dbe3791a-c8cc-43a1-a9b2-a95149cb4a72",
   "metadata": {},
   "outputs": [],
   "source": [
    "lst = ['s_to_inst_news_30', 's_to_pol_inst_news_30', 's_to_news_30', 's_to_pol_news_30', 's_to_news_bg_30',\n",
    "       \"s_to_pol_news_bg_30\", 's_to_inst_news_5', 's_to_news_5', 's_to_news_bg_5']\n",
    "report = make_metrics(lst, b1_2)\n",
    "report.round(2).to_latex(\"search_to_news_metrics_13062023.txt\")\n",
    "report"
   ]
  }
 ],
 "metadata": {
  "kernelspec": {
   "display_name": "Python 3",
   "language": "python",
   "name": "python3"
  },
  "language_info": {
   "codemirror_mode": {
    "name": "ipython",
    "version": 3
   },
   "file_extension": ".py",
   "mimetype": "text/x-python",
   "name": "python",
   "nbconvert_exporter": "python",
   "pygments_lexer": "ipython3",
   "version": "3.8.2"
  }
 },
 "nbformat": 4,
 "nbformat_minor": 5
}
